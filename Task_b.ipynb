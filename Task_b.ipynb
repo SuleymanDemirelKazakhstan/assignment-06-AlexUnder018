{
 "cells": [
  {
   "cell_type": "code",
   "id": "819a6c19df7ac6ab",
   "metadata": {},
   "source": [
    "import spacy\n",
    "from collections import Counter\n",
    "import pandas as pd\n",
    "import numpy as np\n",
    "\n",
    "nlp = spacy.load(\"en_core_web_sm\")"
   ],
   "outputs": [],
   "execution_count": null
  },
  {
   "metadata": {},
   "cell_type": "code",
   "outputs": [],
   "execution_count": null,
   "source": [
    "\n",
    "def extract_adjectives_by_sentiment(reviews, labels):\n",
    "   \n",
    "    positive_adjectives = Counter()\n",
    "    negative_adjectives = Counter()\n",
    "\n",
    "    for review, label in zip(reviews, labels):\n",
    "        doc = nlp(review)\n",
    "        for token in doc:\n",
    "            if token.pos_ == \"ADJ\":  \n",
    "                if label == \"positive\":\n",
    "                    positive_adjectives[token.text.lower()] += 1\n",
    "                else:\n",
    "                    negative_adjectives[token.text.lower()] += 1\n",
    "\n",
    "    all_adjectives = set(positive_adjectives.keys()).union(negative_adjectives.keys())\n",
    "    data = []\n",
    "    for adj in all_adjectives:\n",
    "        data.append({\n",
    "            \"word\": adj,\n",
    "            \"negative\": negative_adjectives[adj],\n",
    "            \"positive\": positive_adjectives[adj]\n",
    "        })\n",
    "\n",
    "    return pd.DataFrame(data)"
   ],
   "id": "557d8ed0f5f8a64b"
  },
  {
   "metadata": {
    "collapsed": true,
    "ExecuteTime": {
     "end_time": "2024-11-29T21:04:34.633824Z",
     "start_time": "2024-11-29T21:04:30.377668Z"
    }
   },
   "cell_type": "code",
   "outputs": [
    {
     "name": "stdout",
     "output_type": "stream",
     "text": [
      "         word  negative  positive\n",
      "415     young         4        21\n",
      "660      good        33        19\n",
      "145     other        16        18\n",
      "59       many        10        18\n",
      "199       old         6        17\n",
      "..        ...       ...       ...\n",
      "445  talented         3         2\n",
      "465   typical         3         2\n",
      "557      hard         3         2\n",
      "588      pure         3         2\n",
      "211     solid         2         2\n",
      "\n",
      "[100 rows x 3 columns]\n"
     ]
    }
   ],
   "execution_count": 9,
   "source": [
    "\n",
    "data = pd.read_csv(\"IMDB Dataset.csv\")\n",
    "\n",
    "x = data['review'].values[:100]\n",
    "y = data['sentiment'].values[:100]\n",
    "df = extract_adjectives_by_sentiment(x, y)\n",
    "\n",
    "df = df.sort_values(by=[\"positive\", \"negative\"], ascending=[False, False])\n",
    "\n",
    "\n",
    "df.to_csv(\"adjective_sentiment_analysis.csv\", index=False)\n",
    "\n",
    "print(df.head(100))"
   ],
   "id": "initial_id"
  },
  {
   "metadata": {
    "ExecuteTime": {
     "end_time": "2024-11-29T21:04:18.985661Z",
     "start_time": "2024-11-29T21:04:18.983819Z"
    }
   },
   "cell_type": "code",
   "source": "",
   "id": "d185b05644417e72",
   "outputs": [],
   "execution_count": null
  }
 ],
 "metadata": {
  "kernelspec": {
   "display_name": "Python 3",
   "language": "python",
   "name": "python3"
  },
  "language_info": {
   "codemirror_mode": {
    "name": "ipython",
    "version": 2
   },
   "file_extension": ".py",
   "mimetype": "text/x-python",
   "name": "python",
   "nbconvert_exporter": "python",
   "pygments_lexer": "ipython2",
   "version": "2.7.6"
  }
 },
 "nbformat": 4,
 "nbformat_minor": 5
}
