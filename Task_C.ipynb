{
 "cells": [
  {
   "cell_type": "code",
   "id": "585e1e32bb471ca9",
   "metadata": {
    "ExecuteTime": {
     "end_time": "2024-11-29T21:17:00.845591Z",
     "start_time": "2024-11-29T21:17:00.569882Z"
    }
   },
   "source": [
    "import spacy\n",
    "import os\n",
    "from collections import defaultdict\n",
    "import pandas as pd\n",
    "\n",
    "nlp = spacy.load(\"en_core_web_sm\")"
   ],
   "outputs": [],
   "execution_count": 3
  },
  {
   "metadata": {
    "ExecuteTime": {
     "end_time": "2024-11-29T21:17:00.851783Z",
     "start_time": "2024-11-29T21:17:00.848747Z"
    }
   },
   "cell_type": "code",
   "source": [
    "\n",
    "def extract_named_entities(folder_path):\n",
    "    entity_counts = defaultdict(lambda: defaultdict(int))\n",
    "\n",
    "    for category in os.listdir(folder_path):\n",
    "        category_path = os.path.join(folder_path, category)\n",
    "\n",
    "        if os.path.isdir(category_path):\n",
    "            print(f\"Processing category: {category}\")\n",
    "\n",
    "            for file_name in os.listdir(category_path):\n",
    "                file_path = os.path.join(category_path, file_name)\n",
    "\n",
    "                if file_name.endswith('.txt'):\n",
    "                    try:\n",
    "                        with open(file_path, 'r', encoding='utf-8', errors='ignore') as file:\n",
    "                            text = file.read()\n",
    "\n",
    "                            doc = nlp(text)\n",
    "\n",
    "                            for ent in doc.ents:\n",
    "                                entity_key = f\"{ent.text}_{ent.label_}\"\n",
    "                                entity_counts[entity_key][category] += 1\n",
    "                    except Exception as e:\n",
    "                        print(f\"Error processing file {file_name}: {e}\")\n",
    "\n",
    "    return entity_counts"
   ],
   "id": "cd41201bd4f7caa0",
   "outputs": [],
   "execution_count": 4
  },
  {
   "metadata": {
    "collapsed": true,
    "ExecuteTime": {
     "end_time": "2024-11-29T21:19:08.579697Z",
     "start_time": "2024-11-29T21:17:00.859928Z"
    }
   },
   "cell_type": "code",
   "source": [
    "\n",
    "\n",
    "bbc_dataset_path = \"bbc\"\n",
    "\n",
    "entity_data = extract_named_entities(bbc_dataset_path)\n",
    "\n",
    "data = []\n",
    "categories = sorted(os.listdir(bbc_dataset_path))\n",
    "for entity, counts in entity_data.items():\n",
    "    row = {\"word\": entity}\n",
    "    for category in categories:\n",
    "        row[category] = counts.get(category, 0)\n",
    "    data.append(row)\n",
    "\n",
    "entity_df = pd.DataFrame(data).fillna(0)\n",
    "\n",
    "entity_df.to_csv(\"bbc_named_entities.csv\", index=False)\n",
    "\n",
    "entity_df.head()\n"
   ],
   "id": "initial_id",
   "outputs": [
    {
     "name": "stdout",
     "output_type": "stream",
     "text": [
      "Processing category: entertainment\n",
      "Processing category: business\n",
      "Processing category: sport\n",
      "Processing category: politics\n",
      "Processing category: tech\n"
     ]
    },
    {
     "data": {
      "text/plain": [
       "           word  .DS_Store  business  entertainment  politics  sport  tech\n",
       "0        US_GPE          0       750            315        86     49   297\n",
       "1  British_NORP          0        17            162       152     83    23\n",
       "2  Atlantic_LOC          0         1              8         3      1     0\n",
       "3   1,300_MONEY          0         0              1         0      0     0\n",
       "4     680_MONEY          0         0              1         1      0     0"
      ],
      "text/html": [
       "<div>\n",
       "<style scoped>\n",
       "    .dataframe tbody tr th:only-of-type {\n",
       "        vertical-align: middle;\n",
       "    }\n",
       "\n",
       "    .dataframe tbody tr th {\n",
       "        vertical-align: top;\n",
       "    }\n",
       "\n",
       "    .dataframe thead th {\n",
       "        text-align: right;\n",
       "    }\n",
       "</style>\n",
       "<table border=\"1\" class=\"dataframe\">\n",
       "  <thead>\n",
       "    <tr style=\"text-align: right;\">\n",
       "      <th></th>\n",
       "      <th>word</th>\n",
       "      <th>.DS_Store</th>\n",
       "      <th>business</th>\n",
       "      <th>entertainment</th>\n",
       "      <th>politics</th>\n",
       "      <th>sport</th>\n",
       "      <th>tech</th>\n",
       "    </tr>\n",
       "  </thead>\n",
       "  <tbody>\n",
       "    <tr>\n",
       "      <th>0</th>\n",
       "      <td>US_GPE</td>\n",
       "      <td>0</td>\n",
       "      <td>750</td>\n",
       "      <td>315</td>\n",
       "      <td>86</td>\n",
       "      <td>49</td>\n",
       "      <td>297</td>\n",
       "    </tr>\n",
       "    <tr>\n",
       "      <th>1</th>\n",
       "      <td>British_NORP</td>\n",
       "      <td>0</td>\n",
       "      <td>17</td>\n",
       "      <td>162</td>\n",
       "      <td>152</td>\n",
       "      <td>83</td>\n",
       "      <td>23</td>\n",
       "    </tr>\n",
       "    <tr>\n",
       "      <th>2</th>\n",
       "      <td>Atlantic_LOC</td>\n",
       "      <td>0</td>\n",
       "      <td>1</td>\n",
       "      <td>8</td>\n",
       "      <td>3</td>\n",
       "      <td>1</td>\n",
       "      <td>0</td>\n",
       "    </tr>\n",
       "    <tr>\n",
       "      <th>3</th>\n",
       "      <td>1,300_MONEY</td>\n",
       "      <td>0</td>\n",
       "      <td>0</td>\n",
       "      <td>1</td>\n",
       "      <td>0</td>\n",
       "      <td>0</td>\n",
       "      <td>0</td>\n",
       "    </tr>\n",
       "    <tr>\n",
       "      <th>4</th>\n",
       "      <td>680_MONEY</td>\n",
       "      <td>0</td>\n",
       "      <td>0</td>\n",
       "      <td>1</td>\n",
       "      <td>1</td>\n",
       "      <td>0</td>\n",
       "      <td>0</td>\n",
       "    </tr>\n",
       "  </tbody>\n",
       "</table>\n",
       "</div>"
      ]
     },
     "execution_count": 5,
     "metadata": {},
     "output_type": "execute_result"
    }
   ],
   "execution_count": 5
  }
 ],
 "metadata": {
  "kernelspec": {
   "display_name": "Python 3",
   "language": "python",
   "name": "python3"
  },
  "language_info": {
   "codemirror_mode": {
    "name": "ipython",
    "version": 2
   },
   "file_extension": ".py",
   "mimetype": "text/x-python",
   "name": "python",
   "nbconvert_exporter": "python",
   "pygments_lexer": "ipython2",
   "version": "2.7.6"
  }
 },
 "nbformat": 4,
 "nbformat_minor": 5
}
