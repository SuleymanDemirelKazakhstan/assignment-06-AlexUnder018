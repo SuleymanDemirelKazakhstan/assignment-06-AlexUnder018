{
 "cells": [
  {
   "cell_type": "code",
   "id": "initial_id",
   "metadata": {
    "collapsed": true,
    "ExecuteTime": {
     "end_time": "2024-11-29T13:20:51.875137Z",
     "start_time": "2024-11-29T13:20:50.363433Z"
    }
   },
   "source": [
    "import spacy\n",
    "\n",
    "def link_entities_to_wikipedia(text):\n",
    "    # Load the English NLP model\n",
    "    nlp = spacy.load(\"en_core_web_sm\")\n",
    "    \n",
    "    # Process the text\n",
    "    doc = nlp(text)\n",
    "    \n",
    "    # Result text with links\n",
    "    linked_text = text\n",
    "    \n",
    "    # Iterate through named entities\n",
    "    for ent in doc.ents:\n",
    "        # Only add links for entities that make sense for Wikipedia\n",
    "        if ent.label_ in {\"PERSON\", \"ORG\", \"GPE\", \"EVENT\", \"NORP\", \"WORK_OF_ART\", \"LANGUAGE\"}:\n",
    "            # Create the Wikipedia link\n",
    "            wiki_link = f'<a href=\"https://en.wikipedia.org/wiki/{ent.text.replace(\" \", \"_\")}\" target=\"_blank\">{ent.text}</a>'\n",
    "            \n",
    "            # Replace the entity in the text with the link\n",
    "            linked_text = linked_text.replace(ent.text, wiki_link)\n",
    "    \n",
    "    return linked_text\n",
    "\n",
    "# Example text\n",
    "text = \"\"\"Polls had predicted Bolsonaro's performance to be lower ahead of the first round, \n",
    "but they were, within the margin of error, accurate in the percentage of votes that Lula da Silva could receive. \n",
    "Now, in this final stage of a deeply polarized contest, some of the research institutes that conduct these polls \n",
    "are drawing attention to the choices being made by women voters.\"\"\"\n",
    "\n",
    "# Call the function\n",
    "result = link_entities_to_wikipedia(text)\n",
    "\n",
    "# Print the result\n",
    "print(result)\n"
   ],
   "outputs": [
    {
     "name": "stderr",
     "output_type": "stream",
     "text": [
      "/Users/alikhantoleberdyev/PycharmProjects/pa6-AlexUnder018/.venv/lib/python3.9/site-packages/urllib3/__init__.py:35: NotOpenSSLWarning: urllib3 v2 only supports OpenSSL 1.1.1+, currently the 'ssl' module is compiled with 'LibreSSL 2.8.3'. See: https://github.com/urllib3/urllib3/issues/3020\n",
      "  warnings.warn(\n"
     ]
    },
    {
     "name": "stdout",
     "output_type": "stream",
     "text": [
      "Polls had predicted <a href=\"https://en.wikipedia.org/wiki/Bolsonaro\" target=\"_blank\">Bolsonaro</a>'s performance to be lower ahead of the first round, \n",
      "but they were, within the margin of error, accurate in the percentage of votes that <a href=\"https://en.wikipedia.org/wiki/Lula_da_Silva\" target=\"_blank\">Lula da Silva</a> could receive. \n",
      "Now, in this final stage of a deeply polarized contest, some of the research institutes that conduct these polls \n",
      "are drawing attention to the choices being made by women voters.\n"
     ]
    }
   ],
   "execution_count": 1
  }
 ],
 "metadata": {
  "kernelspec": {
   "display_name": "Python 3",
   "language": "python",
   "name": "python3"
  },
  "language_info": {
   "codemirror_mode": {
    "name": "ipython",
    "version": 2
   },
   "file_extension": ".py",
   "mimetype": "text/x-python",
   "name": "python",
   "nbconvert_exporter": "python",
   "pygments_lexer": "ipython2",
   "version": "2.7.6"
  }
 },
 "nbformat": 4,
 "nbformat_minor": 5
}
